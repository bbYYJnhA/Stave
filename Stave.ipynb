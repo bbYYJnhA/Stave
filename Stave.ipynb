{
 "cells": [
  {
   "cell_type": "markdown",
   "metadata": {},
   "source": [
    "# Analiza športnnih stav\n",
    "\n",
    "V tem dokumentu je prikazana analiza posameznih športov. Podatki so pobrani iz strani bwin.com(http://bwin.com). Najprej si pripravimo vse podatke, ki jih bomo kasneje analizirali."
   ]
  },
  {
   "cell_type": "code",
   "execution_count": 1,
   "metadata": {
    "collapsed": false
   },
   "outputs": [],
   "source": [
    "import re\n",
    "import datetime\n",
    "import os\n",
    "import pandas as pd\n",
    "import orodja\n",
    "import csv\n",
    "\n",
    "seznam_datumov = os.listdir('zajete-strani')\n",
    "\n",
    "def sez_sportov(datum):\n",
    "    seznam = []\n",
    "    for stran in os.listdir('zajete-strani/' + datum + '/bwin'):\n",
    "        seznam += [stran[:-5]] \n",
    "    return seznam \n",
    "\n",
    "def slovar_datum_kategorije():\n",
    "    slovar = {}\n",
    "    for datum in seznam_datumov:\n",
    "        slovar[datum] = sez_sportov(datum)\n",
    "    return slovar\n",
    "\n",
    "def sportniki(datum, tabela):\n",
    "    slovar = {}\n",
    "    for sport in sez_sportov(datum):\n",
    "        slovar[sport] = pd.read_csv('csv-datoteke/' + datum + '/bwin/' + sport + '/' + tabela)\n",
    "    return slovar\n",
    "\n",
    "def tabela(tabela):\n",
    "    slovar = {}\n",
    "    for datum in seznam_datumov:\n",
    "        slovar[datum] = sportniki(datum, tabela)\n",
    "    return slovar\n",
    "tabela_sportnikov = tabela('sportniki_surovo.csv')\n",
    "tabela_dogodkov = tabela('dogodki.csv')\n",
    "tabela_kategorij = tabela('kategorije.csv')\n",
    "tabela_kat_sportnikov = tabela('sportniki.csv')\n",
    "#orodja.zapisi_tabelo(tabela_sportnikov, ['sport'], 'csv-datoteke/sportniki.csv')\n",
    "#tabela_sportnikov\n",
    "\n",
    "###############################################################\n",
    "# Ustvarjanje tabele sportniki.csv !!! Popravi kodo !!!\n",
    "###############################################################\n",
    "#slovar_datum_kategorije()\n",
    "#with open('csv-datoteke/sportniki.csv', 'w', encoding='utf-8') as csv_dat:\n",
    "#    writer = csv.DictWriter(csv_dat, fieldnames = seznam_datumov) #, 'csv-datoteke/sportniki.csv')\n",
    "#    writer.writeheader()\n",
    "#    slovar = slovar_datum_kategorije()\n",
    "#    for k, v in slovar.items():\n",
    "#        for kat in v:\n",
    "#            writer.writerow({k:kat})\n",
    "###############################################################"
   ]
  },
  {
   "cell_type": "markdown",
   "metadata": {},
   "source": [
    "## Kategorija alpsko smučanje na dan 16.1.2016"
   ]
  },
  {
   "cell_type": "code",
   "execution_count": 81,
   "metadata": {
    "collapsed": true
   },
   "outputs": [],
   "source": [
    "tabela16 = tabela_sportnikov['2016-01-16']"
   ]
  },
  {
   "cell_type": "code",
   "execution_count": 82,
   "metadata": {
    "collapsed": false
   },
   "outputs": [],
   "source": [
    "alpsko_smucanje16 = tabela16['alpine-skiing']"
   ]
  },
  {
   "cell_type": "markdown",
   "metadata": {},
   "source": [
    "### Analiza športnikov\n",
    "Takole izgleda nekaj športnikov v tabeli dne 16.1.2016 pod kategorijo na strani alpsko smučanje. Pozor! Vsi športniki na strani niso nujno alpski smučarji."
   ]
  },
  {
   "cell_type": "code",
   "execution_count": 83,
   "metadata": {
    "collapsed": false
   },
   "outputs": [
    {
     "data": {
      "text/html": [
       "<div>\n",
       "<table border=\"1\" class=\"dataframe\">\n",
       "  <thead>\n",
       "    <tr style=\"text-align: right;\">\n",
       "      <th></th>\n",
       "      <th>sportnik</th>\n",
       "      <th>drzava</th>\n",
       "      <th>kvota</th>\n",
       "    </tr>\n",
       "  </thead>\n",
       "  <tbody>\n",
       "    <tr>\n",
       "      <th>0</th>\n",
       "      <td>Barry Hawkins</td>\n",
       "      <td>ENG</td>\n",
       "      <td>2.75</td>\n",
       "    </tr>\n",
       "    <tr>\n",
       "      <th>1</th>\n",
       "      <td>Judd Trump</td>\n",
       "      <td>ENG</td>\n",
       "      <td>1.40</td>\n",
       "    </tr>\n",
       "    <tr>\n",
       "      <th>2</th>\n",
       "      <td>Ronnie O&amp;#39;Sullivan</td>\n",
       "      <td>ENG</td>\n",
       "      <td>1.30</td>\n",
       "    </tr>\n",
       "    <tr>\n",
       "      <th>3</th>\n",
       "      <td>Stuart Bingham</td>\n",
       "      <td>ENG</td>\n",
       "      <td>3.25</td>\n",
       "    </tr>\n",
       "    <tr>\n",
       "      <th>4</th>\n",
       "      <td>Brandt Snedeker</td>\n",
       "      <td>USA</td>\n",
       "      <td>4.00</td>\n",
       "    </tr>\n",
       "  </tbody>\n",
       "</table>\n",
       "</div>"
      ],
      "text/plain": [
       "                sportnik drzava  kvota\n",
       "0          Barry Hawkins    ENG   2.75\n",
       "1             Judd Trump    ENG   1.40\n",
       "2  Ronnie O&#39;Sullivan    ENG   1.30\n",
       "3         Stuart Bingham    ENG   3.25\n",
       "4        Brandt Snedeker    USA   4.00"
      ]
     },
     "execution_count": 83,
     "metadata": {},
     "output_type": "execute_result"
    }
   ],
   "source": [
    "alpsko_smucanje16.head()"
   ]
  },
  {
   "cell_type": "markdown",
   "metadata": {},
   "source": [
    "#### Športniki z najnižjo kvoto"
   ]
  },
  {
   "cell_type": "code",
   "execution_count": 48,
   "metadata": {
    "collapsed": false
   },
   "outputs": [
    {
     "data": {
      "text/html": [
       "<div>\n",
       "<table border=\"1\" class=\"dataframe\">\n",
       "  <thead>\n",
       "    <tr style=\"text-align: right;\">\n",
       "      <th></th>\n",
       "      <th>sportnik</th>\n",
       "      <th>drzava</th>\n",
       "      <th>kvota</th>\n",
       "    </tr>\n",
       "  </thead>\n",
       "  <tbody>\n",
       "    <tr>\n",
       "      <th>61</th>\n",
       "      <td>Joseph Parker</td>\n",
       "      <td>NZL</td>\n",
       "      <td>1.01</td>\n",
       "    </tr>\n",
       "    <tr>\n",
       "      <th>71</th>\n",
       "      <td>George Groves</td>\n",
       "      <td>ENG</td>\n",
       "      <td>1.01</td>\n",
       "    </tr>\n",
       "    <tr>\n",
       "      <th>462</th>\n",
       "      <td>Novak Djokovic</td>\n",
       "      <td>SRB</td>\n",
       "      <td>1.01</td>\n",
       "    </tr>\n",
       "    <tr>\n",
       "      <th>466</th>\n",
       "      <td>Roger Federer</td>\n",
       "      <td>SUI</td>\n",
       "      <td>1.01</td>\n",
       "    </tr>\n",
       "    <tr>\n",
       "      <th>509</th>\n",
       "      <td>Tomas Berdych</td>\n",
       "      <td>CZE</td>\n",
       "      <td>1.01</td>\n",
       "    </tr>\n",
       "  </tbody>\n",
       "</table>\n",
       "</div>"
      ],
      "text/plain": [
       "           sportnik drzava  kvota\n",
       "61    Joseph Parker    NZL   1.01\n",
       "71    George Groves    ENG   1.01\n",
       "462  Novak Djokovic    SRB   1.01\n",
       "466   Roger Federer    SUI   1.01\n",
       "509   Tomas Berdych    CZE   1.01"
      ]
     },
     "execution_count": 48,
     "metadata": {},
     "output_type": "execute_result"
    }
   ],
   "source": [
    "alpsko_smucanje16[alpsko_smucanje16.kvota < 1.1].sort_values(by='kvota').head()"
   ]
  },
  {
   "cell_type": "markdown",
   "metadata": {},
   "source": [
    "#### Kvote slovenskih športnikov"
   ]
  },
  {
   "cell_type": "code",
   "execution_count": 50,
   "metadata": {
    "collapsed": false
   },
   "outputs": [
    {
     "data": {
      "text/html": [
       "<div>\n",
       "<table border=\"1\" class=\"dataframe\">\n",
       "  <thead>\n",
       "    <tr style=\"text-align: right;\">\n",
       "      <th></th>\n",
       "      <th>sportnik</th>\n",
       "      <th>drzava</th>\n",
       "      <th>kvota</th>\n",
       "    </tr>\n",
       "  </thead>\n",
       "  <tbody>\n",
       "    <tr>\n",
       "      <th>459</th>\n",
       "      <td>Polona Hercog</td>\n",
       "      <td>SLO</td>\n",
       "      <td>3.5</td>\n",
       "    </tr>\n",
       "    <tr>\n",
       "      <th>616</th>\n",
       "      <td>Matej Zagar</td>\n",
       "      <td>SLO</td>\n",
       "      <td>19.0</td>\n",
       "    </tr>\n",
       "    <tr>\n",
       "      <th>680</th>\n",
       "      <td>Ana Drev</td>\n",
       "      <td>SLO</td>\n",
       "      <td>51.0</td>\n",
       "    </tr>\n",
       "    <tr>\n",
       "      <th>692</th>\n",
       "      <td>Ana Drev</td>\n",
       "      <td>SLO</td>\n",
       "      <td>51.0</td>\n",
       "    </tr>\n",
       "    <tr>\n",
       "      <th>232</th>\n",
       "      <td>Borut Bozic</td>\n",
       "      <td>SLO</td>\n",
       "      <td>101.0</td>\n",
       "    </tr>\n",
       "    <tr>\n",
       "      <th>257</th>\n",
       "      <td>Borut Bozic</td>\n",
       "      <td>SLO</td>\n",
       "      <td>101.0</td>\n",
       "    </tr>\n",
       "    <tr>\n",
       "      <th>648</th>\n",
       "      <td>Klemen Kosi</td>\n",
       "      <td>SLO</td>\n",
       "      <td>251.0</td>\n",
       "    </tr>\n",
       "  </tbody>\n",
       "</table>\n",
       "</div>"
      ],
      "text/plain": [
       "          sportnik drzava  kvota\n",
       "459  Polona Hercog    SLO    3.5\n",
       "616    Matej Zagar    SLO   19.0\n",
       "680       Ana Drev    SLO   51.0\n",
       "692       Ana Drev    SLO   51.0\n",
       "232    Borut Bozic    SLO  101.0\n",
       "257    Borut Bozic    SLO  101.0\n",
       "648    Klemen Kosi    SLO  251.0"
      ]
     },
     "execution_count": 50,
     "metadata": {},
     "output_type": "execute_result"
    }
   ],
   "source": [
    "alpsko_smucanje16[alpsko_smucanje16.drzava == 'SLO'].sort_values(by='kvota')"
   ]
  },
  {
   "cell_type": "code",
   "execution_count": 53,
   "metadata": {
    "collapsed": false
   },
   "outputs": [
    {
     "data": {
      "text/plain": [
       "<matplotlib.axes._subplots.AxesSubplot at 0x7fab14b7ca58>"
      ]
     },
     "execution_count": 53,
     "metadata": {},
     "output_type": "execute_result"
    },
    {
     "data": {
      "image/png": "[encoded data removed]",
      "text/plain": [
       "<matplotlib.figure.Figure at 0x7fab14b61278>"
      ]
     },
     "metadata": {},
     "output_type": "display_data"
    }
   ],
   "source": [
    "% matplotlib inline\n",
    "alpsko_smucanje16.groupby('drzava').mean().sort_values(by='kvota').plot()"
   ]
  },
  {
   "cell_type": "markdown",
   "metadata": {},
   "source": [
    "#### Povprečna kvota glede na državo"
   ]
  },
  {
   "cell_type": "code",
   "execution_count": 54,
   "metadata": {
    "collapsed": false
   },
   "outputs": [
    {
     "data": {
      "text/html": [
       "<div>\n",
       "<table border=\"1\" class=\"dataframe\">\n",
       "  <thead>\n",
       "    <tr style=\"text-align: right;\">\n",
       "      <th></th>\n",
       "      <th>kvota</th>\n",
       "    </tr>\n",
       "    <tr>\n",
       "      <th>drzava</th>\n",
       "      <th></th>\n",
       "    </tr>\n",
       "  </thead>\n",
       "  <tbody>\n",
       "    <tr>\n",
       "      <th>ROU</th>\n",
       "      <td>1.150</td>\n",
       "    </tr>\n",
       "    <tr>\n",
       "      <th>UZB</th>\n",
       "      <td>1.220</td>\n",
       "    </tr>\n",
       "    <tr>\n",
       "      <th>PHI</th>\n",
       "      <td>1.360</td>\n",
       "    </tr>\n",
       "    <tr>\n",
       "      <th>PUR</th>\n",
       "      <td>1.415</td>\n",
       "    </tr>\n",
       "    <tr>\n",
       "      <th>URU</th>\n",
       "      <td>1.450</td>\n",
       "    </tr>\n",
       "  </tbody>\n",
       "</table>\n",
       "</div>"
      ],
      "text/plain": [
       "        kvota\n",
       "drzava       \n",
       "ROU     1.150\n",
       "UZB     1.220\n",
       "PHI     1.360\n",
       "PUR     1.415\n",
       "URU     1.450"
      ]
     },
     "execution_count": 54,
     "metadata": {},
     "output_type": "execute_result"
    }
   ],
   "source": [
    "alpsko_smucanje16.groupby('drzava').mean().sort_values(by='kvota').head()"
   ]
  },
  {
   "cell_type": "markdown",
   "metadata": {},
   "source": [
    "#### Število športnikov glede na države"
   ]
  },
  {
   "cell_type": "code",
   "execution_count": 56,
   "metadata": {
    "collapsed": false,
    "scrolled": true
   },
   "outputs": [
    {
     "data": {
      "text/html": [
       "<div>\n",
       "<table border=\"1\" class=\"dataframe\">\n",
       "  <thead>\n",
       "    <tr style=\"text-align: right;\">\n",
       "      <th></th>\n",
       "      <th>sportnik</th>\n",
       "      <th>kvota</th>\n",
       "    </tr>\n",
       "    <tr>\n",
       "      <th>drzava</th>\n",
       "      <th></th>\n",
       "      <th></th>\n",
       "    </tr>\n",
       "  </thead>\n",
       "  <tbody>\n",
       "    <tr>\n",
       "      <th>USA</th>\n",
       "      <td>108</td>\n",
       "      <td>108</td>\n",
       "    </tr>\n",
       "    <tr>\n",
       "      <th>FRA</th>\n",
       "      <td>65</td>\n",
       "      <td>65</td>\n",
       "    </tr>\n",
       "    <tr>\n",
       "      <th>ITA</th>\n",
       "      <td>58</td>\n",
       "      <td>58</td>\n",
       "    </tr>\n",
       "    <tr>\n",
       "      <th>GER</th>\n",
       "      <td>44</td>\n",
       "      <td>44</td>\n",
       "    </tr>\n",
       "    <tr>\n",
       "      <th>BEL</th>\n",
       "      <td>31</td>\n",
       "      <td>31</td>\n",
       "    </tr>\n",
       "  </tbody>\n",
       "</table>\n",
       "</div>"
      ],
      "text/plain": [
       "        sportnik  kvota\n",
       "drzava                 \n",
       "USA          108    108\n",
       "FRA           65     65\n",
       "ITA           58     58\n",
       "GER           44     44\n",
       "BEL           31     31"
      ]
     },
     "execution_count": 56,
     "metadata": {},
     "output_type": "execute_result"
    }
   ],
   "source": [
    "alpsko_smucanje16.groupby('drzava').count().sort_values(['kvota'], ascending=[False]).head()"
   ]
  },
  {
   "cell_type": "markdown",
   "metadata": {},
   "source": [
    "#### Povprečna kvota glede na državo\n",
    "\n",
    "Da ne bi prihajalo do prevelikih izjem, so v poizvedbi le države z več kot 4 športniki."
   ]
  },
  {
   "cell_type": "code",
   "execution_count": 58,
   "metadata": {
    "collapsed": false
   },
   "outputs": [
    {
     "name": "stderr",
     "output_type": "stream",
     "text": [
      "/usr/lib64/python3.4/site-packages/pandas/core/frame.py:1997: UserWarning: Boolean Series key will be reindexed to match DataFrame index.\n",
      "  \"DataFrame index.\", UserWarning)\n"
     ]
    },
    {
     "data": {
      "text/html": [
       "<div>\n",
       "<table border=\"1\" class=\"dataframe\">\n",
       "  <thead>\n",
       "    <tr style=\"text-align: right;\">\n",
       "      <th></th>\n",
       "      <th>drzava</th>\n",
       "      <th>kvota</th>\n",
       "      <th>sportnik</th>\n",
       "      <th>kvota na sportnika</th>\n",
       "    </tr>\n",
       "  </thead>\n",
       "  <tbody>\n",
       "    <tr>\n",
       "      <th>12</th>\n",
       "      <td>CRO</td>\n",
       "      <td>8.76</td>\n",
       "      <td>6</td>\n",
       "      <td>1.460000</td>\n",
       "    </tr>\n",
       "    <tr>\n",
       "      <th>46</th>\n",
       "      <td>JPN</td>\n",
       "      <td>20.94</td>\n",
       "      <td>10</td>\n",
       "      <td>2.094000</td>\n",
       "    </tr>\n",
       "    <tr>\n",
       "      <th>68</th>\n",
       "      <td>SRB</td>\n",
       "      <td>12.70</td>\n",
       "      <td>6</td>\n",
       "      <td>2.116667</td>\n",
       "    </tr>\n",
       "    <tr>\n",
       "      <th>37</th>\n",
       "      <td>HUN</td>\n",
       "      <td>27.38</td>\n",
       "      <td>11</td>\n",
       "      <td>2.489091</td>\n",
       "    </tr>\n",
       "    <tr>\n",
       "      <th>7</th>\n",
       "      <td>BRA</td>\n",
       "      <td>27.80</td>\n",
       "      <td>10</td>\n",
       "      <td>2.780000</td>\n",
       "    </tr>\n",
       "  </tbody>\n",
       "</table>\n",
       "</div>"
      ],
      "text/plain": [
       "   drzava  kvota  sportnik  kvota na sportnika\n",
       "12    CRO   8.76         6            1.460000\n",
       "46    JPN  20.94        10            2.094000\n",
       "68    SRB  12.70         6            2.116667\n",
       "37    HUN  27.38        11            2.489091\n",
       "7     BRA  27.80        10            2.780000"
      ]
     },
     "execution_count": 58,
     "metadata": {},
     "output_type": "execute_result"
    }
   ],
   "source": [
    "kvota_drzava = alpsko_smucanje16.groupby('drzava').sum()\n",
    "povp_kvota_drzava = alpsko_smucanje16.groupby('drzava').mean()\n",
    "stevilo_drzava = alpsko_smucanje16.groupby('drzava').count()[['sportnik']]\n",
    "kvota_in_stevilo_po_drzavah = pd.merge(kvota_drzava.reset_index(), stevilo_drzava.reset_index())\n",
    "kvota_na_sportnika = kvota_in_stevilo_po_drzavah.kvota/kvota_in_stevilo_po_drzavah.sportnik\n",
    "kvota_in_stevilo_po_drzavah['kvota na sportnika'] = kvota_na_sportnika\n",
    "sportniki_analiza_vsi = kvota_in_stevilo_po_drzavah.sort_values(['kvota na sportnika'])\n",
    "sportniki_analiza = sportniki_analiza_vsi[kvota_in_stevilo_po_drzavah.sportnik >= 5 ]\n",
    "sportniki_analiza.head()"
   ]
  },
  {
   "cell_type": "code",
   "execution_count": 59,
   "metadata": {
    "collapsed": false
   },
   "outputs": [
    {
     "data": {
      "text/plain": [
       "<matplotlib.axes._subplots.AxesSubplot at 0x7fab14c2e048>"
      ]
     },
     "execution_count": 59,
     "metadata": {},
     "output_type": "execute_result"
    },
    {
     "name": "stderr",
     "output_type": "stream",
     "text": [
      "/usr/lib64/python3.4/site-packages/matplotlib/collections.py:590: FutureWarning: elementwise comparison failed; returning scalar instead, but in the future will perform elementwise comparison\n",
      "  if self._edgecolors == str('face'):\n"
     ]
    },
    {
     "data": {
      "image/png": "[encoded data removed]",
      "text/plain": [
       "<matplotlib.figure.Figure at 0x7fab14c66898>"
      ]
     },
     "metadata": {},
     "output_type": "display_data"
    }
   ],
   "source": [
    "sportniki_analiza.plot(kind='area')"
   ]
  },
  {
   "cell_type": "code",
   "execution_count": 60,
   "metadata": {
    "collapsed": false
   },
   "outputs": [
    {
     "data": {
      "text/plain": [
       "<matplotlib.axes._subplots.AxesSubplot at 0x7fab14ba2048>"
      ]
     },
     "execution_count": 60,
     "metadata": {},
     "output_type": "execute_result"
    },
    {
     "name": "stderr",
     "output_type": "stream",
     "text": [
      "/usr/lib64/python3.4/site-packages/matplotlib/collections.py:590: FutureWarning: elementwise comparison failed; returning scalar instead, but in the future will perform elementwise comparison\n",
      "  if self._edgecolors == str('face'):\n"
     ]
    },
    {
     "data": {
      "image/png": "[encoded data removed]",
      "text/plain": [
       "<matplotlib.figure.Figure at 0x7fab15d26438>"
      ]
     },
     "metadata": {},
     "output_type": "display_data"
    }
   ],
   "source": [
    "sportniki_analiza.plot.scatter('sportnik', 'kvota na sportnika')"
   ]
  },
  {
   "cell_type": "markdown",
   "metadata": {},
   "source": [
    "### Natančnejša analiza športnikov"
   ]
  },
  {
   "cell_type": "code",
   "execution_count": 66,
   "metadata": {
    "collapsed": true
   },
   "outputs": [],
   "source": [
    "sportn16 = tabela_kat_sportnikov['2016-01-16']['alpine-skiing']"
   ]
  },
  {
   "cell_type": "markdown",
   "metadata": {
    "collapsed": true
   },
   "source": [
    "Vidimo lahko, da je kvota najnižja pri boksu."
   ]
  },
  {
   "cell_type": "code",
   "execution_count": 67,
   "metadata": {
    "collapsed": false
   },
   "outputs": [
    {
     "data": {
      "text/html": [
       "<div>\n",
       "<table border=\"1\" class=\"dataframe\">\n",
       "  <thead>\n",
       "    <tr style=\"text-align: right;\">\n",
       "      <th></th>\n",
       "      <th>dogodek</th>\n",
       "      <th>kvota</th>\n",
       "      <th>drzava</th>\n",
       "      <th>sportnik</th>\n",
       "    </tr>\n",
       "  </thead>\n",
       "  <tbody>\n",
       "    <tr>\n",
       "      <th>6</th>\n",
       "      <td>Catchweight\\n        - World</td>\n",
       "      <td>1.01</td>\n",
       "      <td>ENG</td>\n",
       "      <td>George Groves</td>\n",
       "    </tr>\n",
       "    <tr>\n",
       "      <th>2</th>\n",
       "      <td>Heavyweight\\n        - World</td>\n",
       "      <td>1.05</td>\n",
       "      <td>ENG</td>\n",
       "      <td>David Haye</td>\n",
       "    </tr>\n",
       "    <tr>\n",
       "      <th>4</th>\n",
       "      <td>Welterweight\\n        - World</td>\n",
       "      <td>1.13</td>\n",
       "      <td>USA</td>\n",
       "      <td>Danny Garcia</td>\n",
       "    </tr>\n",
       "    <tr>\n",
       "      <th>26</th>\n",
       "      <td>ATP Challenger - Buenos Aires (ARG) - Doubles ...</td>\n",
       "      <td>1.15</td>\n",
       "      <td>RUS</td>\n",
       "      <td>Mikhail Youzhny</td>\n",
       "    </tr>\n",
       "    <tr>\n",
       "      <th>7</th>\n",
       "      <td>Lightweight\\n        - World</td>\n",
       "      <td>1.18</td>\n",
       "      <td>ENG</td>\n",
       "      <td>Terry Flanagan</td>\n",
       "    </tr>\n",
       "  </tbody>\n",
       "</table>\n",
       "</div>"
      ],
      "text/plain": [
       "                                              dogodek  kvota drzava  \\\n",
       "6                        Catchweight\\n        - World   1.01    ENG   \n",
       "2                        Heavyweight\\n        - World   1.05    ENG   \n",
       "4                       Welterweight\\n        - World   1.13    USA   \n",
       "26  ATP Challenger - Buenos Aires (ARG) - Doubles ...   1.15    RUS   \n",
       "7                        Lightweight\\n        - World   1.18    ENG   \n",
       "\n",
       "           sportnik  \n",
       "6     George Groves  \n",
       "2        David Haye  \n",
       "4      Danny Garcia  \n",
       "26  Mikhail Youzhny  \n",
       "7    Terry Flanagan  "
      ]
     },
     "execution_count": 67,
     "metadata": {},
     "output_type": "execute_result"
    }
   ],
   "source": [
    "sportn16.sort_values(by='kvota').head()"
   ]
  },
  {
   "cell_type": "markdown",
   "metadata": {},
   "source": [
    "### Analiza dogodkov"
   ]
  },
  {
   "cell_type": "code",
   "execution_count": 69,
   "metadata": {
    "collapsed": false
   },
   "outputs": [
    {
     "data": {
      "text/html": [
       "<div>\n",
       "<table border=\"1\" class=\"dataframe\">\n",
       "  <thead>\n",
       "    <tr style=\"text-align: right;\">\n",
       "      <th></th>\n",
       "      <th>dogodek</th>\n",
       "      <th>drzava</th>\n",
       "    </tr>\n",
       "  </thead>\n",
       "  <tbody>\n",
       "    <tr>\n",
       "      <th>0</th>\n",
       "      <td>AFL</td>\n",
       "      <td>Australia</td>\n",
       "    </tr>\n",
       "    <tr>\n",
       "      <th>1</th>\n",
       "      <td>The Masters</td>\n",
       "      <td>World</td>\n",
       "    </tr>\n",
       "    <tr>\n",
       "      <th>2</th>\n",
       "      <td>Super League</td>\n",
       "      <td>England</td>\n",
       "    </tr>\n",
       "    <tr>\n",
       "      <th>3</th>\n",
       "      <td>Challenge Cup</td>\n",
       "      <td>England</td>\n",
       "    </tr>\n",
       "    <tr>\n",
       "      <th>4</th>\n",
       "      <td>National Rugby League</td>\n",
       "      <td>Australia</td>\n",
       "    </tr>\n",
       "  </tbody>\n",
       "</table>\n",
       "</div>"
      ],
      "text/plain": [
       "                 dogodek     drzava\n",
       "0                    AFL  Australia\n",
       "1            The Masters      World\n",
       "2           Super League    England\n",
       "3          Challenge Cup    England\n",
       "4  National Rugby League  Australia"
      ]
     },
     "execution_count": 69,
     "metadata": {},
     "output_type": "execute_result"
    }
   ],
   "source": [
    "dogodki16 = tabela_dogodkov['2016-01-16']['alpine-skiing']\n",
    "dogodki16.head()"
   ]
  },
  {
   "cell_type": "markdown",
   "metadata": {},
   "source": [
    "# Nadaljevanje\n",
    "\n",
    "Zgoraj je predstavljen le en primer podatkov iz strani pobranih dne 16.1.2016 na strani alpskega smučanja. Te podatke lahko pridobimo tudi še za druge datume in športe"
   ]
  },
  {
   "cell_type": "markdown",
   "metadata": {},
   "source": [
    "V spodnji tabeli so naštete vse možnosti."
   ]
  },
  {
   "cell_type": "code",
   "execution_count": 107,
   "metadata": {
    "collapsed": false,
    "scrolled": false
   },
   "outputs": [
    {
     "data": {
      "text/html": [
       "<div>\n",
       "<table border=\"1\" class=\"dataframe\">\n",
       "  <thead>\n",
       "    <tr style=\"text-align: right;\">\n",
       "      <th></th>\n",
       "      <th>2016/01/20</th>\n",
       "      <th>2016/01/21</th>\n",
       "      <th>2016/01/18</th>\n",
       "      <th>2016/01/16</th>\n",
       "      <th>2016/01/17</th>\n",
       "      <th>2016/01/22</th>\n",
       "    </tr>\n",
       "  </thead>\n",
       "  <tbody>\n",
       "    <tr>\n",
       "      <th>0</th>\n",
       "      <td>aussie-rules</td>\n",
       "      <td>aussie-rules</td>\n",
       "      <td>aussie-rules</td>\n",
       "      <td>aussie-rules</td>\n",
       "      <td>aussie-rules</td>\n",
       "      <td>aussie-rules</td>\n",
       "    </tr>\n",
       "    <tr>\n",
       "      <th>1</th>\n",
       "      <td>snooker</td>\n",
       "      <td>snooker</td>\n",
       "      <td>snooker</td>\n",
       "      <td>snooker</td>\n",
       "      <td>snooker</td>\n",
       "      <td>snooker</td>\n",
       "    </tr>\n",
       "    <tr>\n",
       "      <th>2</th>\n",
       "      <td>rugby-league</td>\n",
       "      <td>rugby-league</td>\n",
       "      <td>rugby-league</td>\n",
       "      <td>rugby-league</td>\n",
       "      <td>rugby-league</td>\n",
       "      <td>rugby-league</td>\n",
       "    </tr>\n",
       "    <tr>\n",
       "      <th>3</th>\n",
       "      <td>golf</td>\n",
       "      <td>golf</td>\n",
       "      <td>golf</td>\n",
       "      <td>golf</td>\n",
       "      <td>golf</td>\n",
       "      <td>golf</td>\n",
       "    </tr>\n",
       "    <tr>\n",
       "      <th>4</th>\n",
       "      <td>boxing</td>\n",
       "      <td>boxing</td>\n",
       "      <td>boxing</td>\n",
       "      <td>boxing</td>\n",
       "      <td>boxing</td>\n",
       "      <td>boxing</td>\n",
       "    </tr>\n",
       "    <tr>\n",
       "      <th>5</th>\n",
       "      <td>specials</td>\n",
       "      <td>specials</td>\n",
       "      <td>beach-volleyball</td>\n",
       "      <td>specials</td>\n",
       "      <td>specials</td>\n",
       "      <td>specials</td>\n",
       "    </tr>\n",
       "    <tr>\n",
       "      <th>6</th>\n",
       "      <td>beach-volleyball</td>\n",
       "      <td>beach-volleyball</td>\n",
       "      <td>swimming</td>\n",
       "      <td>beach-volleyball</td>\n",
       "      <td>beach-volleyball</td>\n",
       "      <td>beach-volleyball</td>\n",
       "    </tr>\n",
       "    <tr>\n",
       "      <th>7</th>\n",
       "      <td>swimming</td>\n",
       "      <td>swimming</td>\n",
       "      <td>rugby-union</td>\n",
       "      <td>swimming</td>\n",
       "      <td>swimming</td>\n",
       "      <td>swimming</td>\n",
       "    </tr>\n",
       "    <tr>\n",
       "      <th>8</th>\n",
       "      <td>rugby-union</td>\n",
       "      <td>rugby-union</td>\n",
       "      <td>floorball</td>\n",
       "      <td>rugby-union</td>\n",
       "      <td>rugby-union</td>\n",
       "      <td>rugby-union</td>\n",
       "    </tr>\n",
       "    <tr>\n",
       "      <th>9</th>\n",
       "      <td>floorball</td>\n",
       "      <td>floorball</td>\n",
       "      <td>cycling</td>\n",
       "      <td>floorball</td>\n",
       "      <td>floorball</td>\n",
       "      <td>floorball</td>\n",
       "    </tr>\n",
       "    <tr>\n",
       "      <th>10</th>\n",
       "      <td>cycling</td>\n",
       "      <td>cycling</td>\n",
       "      <td>american-football</td>\n",
       "      <td>cycling</td>\n",
       "      <td>cycling</td>\n",
       "      <td>cycling</td>\n",
       "    </tr>\n",
       "    <tr>\n",
       "      <th>11</th>\n",
       "      <td>american-football</td>\n",
       "      <td>american-football</td>\n",
       "      <td>water-polo</td>\n",
       "      <td>american-football</td>\n",
       "      <td>american-football</td>\n",
       "      <td>american-football</td>\n",
       "    </tr>\n",
       "    <tr>\n",
       "      <th>12</th>\n",
       "      <td>water-polo</td>\n",
       "      <td>water-polo</td>\n",
       "      <td>biathlon</td>\n",
       "      <td>water-polo</td>\n",
       "      <td>water-polo</td>\n",
       "      <td>water-polo</td>\n",
       "    </tr>\n",
       "    <tr>\n",
       "      <th>13</th>\n",
       "      <td>biathlon</td>\n",
       "      <td>biathlon</td>\n",
       "      <td>basketball</td>\n",
       "      <td>biathlon</td>\n",
       "      <td>basketball</td>\n",
       "      <td>biathlon</td>\n",
       "    </tr>\n",
       "    <tr>\n",
       "      <th>14</th>\n",
       "      <td>basketball</td>\n",
       "      <td>basketball</td>\n",
       "      <td>volleyball</td>\n",
       "      <td>basketball</td>\n",
       "      <td>volleyball</td>\n",
       "      <td>basketball</td>\n",
       "    </tr>\n",
       "    <tr>\n",
       "      <th>15</th>\n",
       "      <td>volleyball</td>\n",
       "      <td>volleyball</td>\n",
       "      <td>darts</td>\n",
       "      <td>volleyball</td>\n",
       "      <td>darts</td>\n",
       "      <td>volleyball</td>\n",
       "    </tr>\n",
       "    <tr>\n",
       "      <th>16</th>\n",
       "      <td>darts</td>\n",
       "      <td>darts</td>\n",
       "      <td>combat-sports</td>\n",
       "      <td>darts</td>\n",
       "      <td>combat-sports</td>\n",
       "      <td>darts</td>\n",
       "    </tr>\n",
       "    <tr>\n",
       "      <th>17</th>\n",
       "      <td>combat-sports</td>\n",
       "      <td>combat-sports</td>\n",
       "      <td>tennis</td>\n",
       "      <td>combat-sports</td>\n",
       "      <td>tennis</td>\n",
       "      <td>combat-sports</td>\n",
       "    </tr>\n",
       "    <tr>\n",
       "      <th>18</th>\n",
       "      <td>tennis</td>\n",
       "      <td>tennis</td>\n",
       "      <td>motorbikes</td>\n",
       "      <td>tennis</td>\n",
       "      <td>motorbikes</td>\n",
       "      <td>tennis</td>\n",
       "    </tr>\n",
       "    <tr>\n",
       "      <th>19</th>\n",
       "      <td>motorbikes</td>\n",
       "      <td>motorbikes</td>\n",
       "      <td>speedway</td>\n",
       "      <td>motorbikes</td>\n",
       "      <td>speedway</td>\n",
       "      <td>motorbikes</td>\n",
       "    </tr>\n",
       "    <tr>\n",
       "      <th>20</th>\n",
       "      <td>speedway</td>\n",
       "      <td>speedway</td>\n",
       "      <td>cricket</td>\n",
       "      <td>speedway</td>\n",
       "      <td>cricket</td>\n",
       "      <td>speedway</td>\n",
       "    </tr>\n",
       "    <tr>\n",
       "      <th>21</th>\n",
       "      <td>cricket</td>\n",
       "      <td>cricket</td>\n",
       "      <td>formula-1</td>\n",
       "      <td>cricket</td>\n",
       "      <td>formula-1</td>\n",
       "      <td>cricket</td>\n",
       "    </tr>\n",
       "    <tr>\n",
       "      <th>22</th>\n",
       "      <td>formula-1</td>\n",
       "      <td>formula-1</td>\n",
       "      <td>alpine-skiing</td>\n",
       "      <td>formula-1</td>\n",
       "      <td>entertainment</td>\n",
       "      <td>formula-1</td>\n",
       "    </tr>\n",
       "    <tr>\n",
       "      <th>23</th>\n",
       "      <td>futsal</td>\n",
       "      <td>futsal</td>\n",
       "      <td>entertainment</td>\n",
       "      <td>futsal</td>\n",
       "      <td>rally</td>\n",
       "      <td>futsal</td>\n",
       "    </tr>\n",
       "    <tr>\n",
       "      <th>24</th>\n",
       "      <td>alpine-skiing</td>\n",
       "      <td>alpine-skiing</td>\n",
       "      <td>rally</td>\n",
       "      <td>alpine-skiing</td>\n",
       "      <td>handball</td>\n",
       "      <td>alpine-skiing</td>\n",
       "    </tr>\n",
       "    <tr>\n",
       "      <th>25</th>\n",
       "      <td>entertainment</td>\n",
       "      <td>entertainment</td>\n",
       "      <td>handball</td>\n",
       "      <td>entertainment</td>\n",
       "      <td>football</td>\n",
       "      <td>entertainment</td>\n",
       "    </tr>\n",
       "    <tr>\n",
       "      <th>26</th>\n",
       "      <td>rally</td>\n",
       "      <td>rally</td>\n",
       "      <td>football</td>\n",
       "      <td>rally</td>\n",
       "      <td>baseball</td>\n",
       "      <td>handball</td>\n",
       "    </tr>\n",
       "    <tr>\n",
       "      <th>27</th>\n",
       "      <td>handball</td>\n",
       "      <td>handball</td>\n",
       "      <td>baseball</td>\n",
       "      <td>handball</td>\n",
       "      <td>table-tennis</td>\n",
       "      <td>football</td>\n",
       "    </tr>\n",
       "    <tr>\n",
       "      <th>28</th>\n",
       "      <td>football</td>\n",
       "      <td>football</td>\n",
       "      <td>table-tennis</td>\n",
       "      <td>football</td>\n",
       "      <td>politics</td>\n",
       "      <td>ski-jumping-</td>\n",
       "    </tr>\n",
       "    <tr>\n",
       "      <th>29</th>\n",
       "      <td>ski-jumping-</td>\n",
       "      <td>ski-jumping-</td>\n",
       "      <td>politics</td>\n",
       "      <td>ski-jumping-</td>\n",
       "      <td>bowls</td>\n",
       "      <td>baseball</td>\n",
       "    </tr>\n",
       "    <tr>\n",
       "      <th>30</th>\n",
       "      <td>baseball</td>\n",
       "      <td>baseball</td>\n",
       "      <td>bowls</td>\n",
       "      <td>baseball</td>\n",
       "      <td>cross-country-skiing</td>\n",
       "      <td>table-tennis</td>\n",
       "    </tr>\n",
       "    <tr>\n",
       "      <th>31</th>\n",
       "      <td>table-tennis</td>\n",
       "      <td>table-tennis</td>\n",
       "      <td>cross-country-skiing</td>\n",
       "      <td>politics</td>\n",
       "      <td>chess</td>\n",
       "      <td>politics</td>\n",
       "    </tr>\n",
       "    <tr>\n",
       "      <th>32</th>\n",
       "      <td>politics</td>\n",
       "      <td>politics</td>\n",
       "      <td>chess</td>\n",
       "      <td>bowls</td>\n",
       "      <td>ice-hockey</td>\n",
       "      <td>bowls</td>\n",
       "    </tr>\n",
       "    <tr>\n",
       "      <th>33</th>\n",
       "      <td>bowls</td>\n",
       "      <td>bowls</td>\n",
       "      <td>ice-hockey</td>\n",
       "      <td>cross-country-skiing</td>\n",
       "      <td>netball</td>\n",
       "      <td>cross-country-skiing</td>\n",
       "    </tr>\n",
       "    <tr>\n",
       "      <th>34</th>\n",
       "      <td>cross-country-skiing</td>\n",
       "      <td>cross-country-skiing</td>\n",
       "      <td>netball</td>\n",
       "      <td>bandy</td>\n",
       "      <td>NaN</td>\n",
       "      <td>bandy</td>\n",
       "    </tr>\n",
       "    <tr>\n",
       "      <th>35</th>\n",
       "      <td>bandy</td>\n",
       "      <td>chess</td>\n",
       "      <td>NaN</td>\n",
       "      <td>chess</td>\n",
       "      <td>NaN</td>\n",
       "      <td>chess</td>\n",
       "    </tr>\n",
       "    <tr>\n",
       "      <th>36</th>\n",
       "      <td>chess</td>\n",
       "      <td>ice-hockey</td>\n",
       "      <td>NaN</td>\n",
       "      <td>ice-hockey</td>\n",
       "      <td>NaN</td>\n",
       "      <td>ice-hockey</td>\n",
       "    </tr>\n",
       "    <tr>\n",
       "      <th>37</th>\n",
       "      <td>ice-hockey</td>\n",
       "      <td>netball</td>\n",
       "      <td>NaN</td>\n",
       "      <td>netball</td>\n",
       "      <td>NaN</td>\n",
       "      <td>netball</td>\n",
       "    </tr>\n",
       "    <tr>\n",
       "      <th>38</th>\n",
       "      <td>netball</td>\n",
       "      <td>NaN</td>\n",
       "      <td>NaN</td>\n",
       "      <td>NaN</td>\n",
       "      <td>NaN</td>\n",
       "      <td>NaN</td>\n",
       "    </tr>\n",
       "  </tbody>\n",
       "</table>\n",
       "</div>"
      ],
      "text/plain": [
       "              2016/01/20            2016/01/21            2016/01/18  \\\n",
       "0           aussie-rules          aussie-rules          aussie-rules   \n",
       "1                snooker               snooker               snooker   \n",
       "2           rugby-league          rugby-league          rugby-league   \n",
       "3                   golf                  golf                  golf   \n",
       "4                 boxing                boxing                boxing   \n",
       "5               specials              specials      beach-volleyball   \n",
       "6       beach-volleyball      beach-volleyball              swimming   \n",
       "7               swimming              swimming           rugby-union   \n",
       "8            rugby-union           rugby-union             floorball   \n",
       "9              floorball             floorball               cycling   \n",
       "10               cycling               cycling     american-football   \n",
       "11     american-football     american-football            water-polo   \n",
       "12            water-polo            water-polo              biathlon   \n",
       "13              biathlon              biathlon            basketball   \n",
       "14            basketball            basketball            volleyball   \n",
       "15            volleyball            volleyball                 darts   \n",
       "16                 darts                 darts         combat-sports   \n",
       "17         combat-sports         combat-sports                tennis   \n",
       "18                tennis                tennis            motorbikes   \n",
       "19            motorbikes            motorbikes              speedway   \n",
       "20              speedway              speedway               cricket   \n",
       "21               cricket               cricket             formula-1   \n",
       "22             formula-1             formula-1         alpine-skiing   \n",
       "23                futsal                futsal         entertainment   \n",
       "24         alpine-skiing         alpine-skiing                 rally   \n",
       "25         entertainment         entertainment              handball   \n",
       "26                 rally                 rally              football   \n",
       "27              handball              handball              baseball   \n",
       "28              football              football          table-tennis   \n",
       "29          ski-jumping-          ski-jumping-              politics   \n",
       "30              baseball              baseball                 bowls   \n",
       "31          table-tennis          table-tennis  cross-country-skiing   \n",
       "32              politics              politics                 chess   \n",
       "33                 bowls                 bowls            ice-hockey   \n",
       "34  cross-country-skiing  cross-country-skiing               netball   \n",
       "35                 bandy                 chess                   NaN   \n",
       "36                 chess            ice-hockey                   NaN   \n",
       "37            ice-hockey               netball                   NaN   \n",
       "38               netball                   NaN                   NaN   \n",
       "\n",
       "              2016/01/16            2016/01/17            2016/01/22  \n",
       "0           aussie-rules          aussie-rules          aussie-rules  \n",
       "1                snooker               snooker               snooker  \n",
       "2           rugby-league          rugby-league          rugby-league  \n",
       "3                   golf                  golf                  golf  \n",
       "4                 boxing                boxing                boxing  \n",
       "5               specials              specials              specials  \n",
       "6       beach-volleyball      beach-volleyball      beach-volleyball  \n",
       "7               swimming              swimming              swimming  \n",
       "8            rugby-union           rugby-union           rugby-union  \n",
       "9              floorball             floorball             floorball  \n",
       "10               cycling               cycling               cycling  \n",
       "11     american-football     american-football     american-football  \n",
       "12            water-polo            water-polo            water-polo  \n",
       "13              biathlon            basketball              biathlon  \n",
       "14            basketball            volleyball            basketball  \n",
       "15            volleyball                 darts            volleyball  \n",
       "16                 darts         combat-sports                 darts  \n",
       "17         combat-sports                tennis         combat-sports  \n",
       "18                tennis            motorbikes                tennis  \n",
       "19            motorbikes              speedway            motorbikes  \n",
       "20              speedway               cricket              speedway  \n",
       "21               cricket             formula-1               cricket  \n",
       "22             formula-1         entertainment             formula-1  \n",
       "23                futsal                 rally                futsal  \n",
       "24         alpine-skiing              handball         alpine-skiing  \n",
       "25         entertainment              football         entertainment  \n",
       "26                 rally              baseball              handball  \n",
       "27              handball          table-tennis              football  \n",
       "28              football              politics          ski-jumping-  \n",
       "29          ski-jumping-                 bowls              baseball  \n",
       "30              baseball  cross-country-skiing          table-tennis  \n",
       "31              politics                 chess              politics  \n",
       "32                 bowls            ice-hockey                 bowls  \n",
       "33  cross-country-skiing               netball  cross-country-skiing  \n",
       "34                 bandy                   NaN                 bandy  \n",
       "35                 chess                   NaN                 chess  \n",
       "36            ice-hockey                   NaN            ice-hockey  \n",
       "37               netball                   NaN               netball  \n",
       "38                   NaN                   NaN                   NaN  "
      ]
     },
     "execution_count": 107,
     "metadata": {},
     "output_type": "execute_result"
    }
   ],
   "source": [
    "vse_moznosti = pd.read_csv('csv-datoteke/sportniki.csv')\n",
    "vse_moznosti"
   ]
  },
  {
   "cell_type": "code",
   "execution_count": 6,
   "metadata": {
    "collapsed": false,
    "scrolled": false
   },
   "outputs": [
    {
     "name": "stderr",
     "output_type": "stream",
     "text": [
      "/usr/lib64/python3.4/site-packages/pandas/core/frame.py:1997: UserWarning: Boolean Series key will be reindexed to match DataFrame index.\n",
      "  \"DataFrame index.\", UserWarning)\n"
     ]
    },
    {
     "data": {
      "text/html": [
       "<div>\n",
       "<table border=\"1\" class=\"dataframe\">\n",
       "  <thead>\n",
       "    <tr style=\"text-align: right;\">\n",
       "      <th></th>\n",
       "      <th>drzava</th>\n",
       "      <th>kvota</th>\n",
       "      <th>sportnik</th>\n",
       "      <th>kvota na sportnika</th>\n",
       "    </tr>\n",
       "  </thead>\n",
       "  <tbody>\n",
       "    <tr>\n",
       "      <th>97</th>\n",
       "      <td>TUR</td>\n",
       "      <td>13.98</td>\n",
       "      <td>8</td>\n",
       "      <td>1.747500</td>\n",
       "    </tr>\n",
       "    <tr>\n",
       "      <th>48</th>\n",
       "      <td>HKG</td>\n",
       "      <td>11.33</td>\n",
       "      <td>6</td>\n",
       "      <td>1.888333</td>\n",
       "    </tr>\n",
       "    <tr>\n",
       "      <th>110</th>\n",
       "      <td>WAL</td>\n",
       "      <td>23.49</td>\n",
       "      <td>12</td>\n",
       "      <td>1.957500</td>\n",
       "    </tr>\n",
       "    <tr>\n",
       "      <th>90</th>\n",
       "      <td>SRB</td>\n",
       "      <td>11.87</td>\n",
       "      <td>5</td>\n",
       "      <td>2.374000</td>\n",
       "    </tr>\n",
       "    <tr>\n",
       "      <th>60</th>\n",
       "      <td>JPN</td>\n",
       "      <td>29.95</td>\n",
       "      <td>11</td>\n",
       "      <td>2.722727</td>\n",
       "    </tr>\n",
       "  </tbody>\n",
       "</table>\n",
       "</div>"
      ],
      "text/plain": [
       "    drzava  kvota  sportnik  kvota na sportnika\n",
       "97     TUR  13.98         8            1.747500\n",
       "48     HKG  11.33         6            1.888333\n",
       "110    WAL  23.49        12            1.957500\n",
       "90     SRB  11.87         5            2.374000\n",
       "60     JPN  29.95        11            2.722727"
      ]
     },
     "execution_count": 6,
     "metadata": {},
     "output_type": "execute_result"
    }
   ],
   "source": [
    "def analiza(datum, kategorija):\n",
    "    analiza_tabela = tabela_sportnikov[datum][kategorija]\n",
    "    kvota_drzava = analiza_tabela.groupby('drzava').sum()\n",
    "    povp_kvota_drzava = analiza_tabela.groupby('drzava').mean()\n",
    "    stevilo_drzava = analiza_tabela.groupby('drzava').count()[['sportnik']]\n",
    "    kvota_in_stevilo_po_drzavah = pd.merge(kvota_drzava.reset_index(), stevilo_drzava.reset_index())\n",
    "    kvota_na_sportnika = kvota_in_stevilo_po_drzavah.kvota/kvota_in_stevilo_po_drzavah.sportnik\n",
    "    kvota_in_stevilo_po_drzavah['kvota na sportnika'] = kvota_na_sportnika\n",
    "    sportniki_analiza_vsi = kvota_in_stevilo_po_drzavah.sort_values(['kvota na sportnika'])\n",
    "    sportniki_analiza = sportniki_analiza_vsi[kvota_in_stevilo_po_drzavah.sportnik >= 5 ]\n",
    "    sportniki_analiza.plot.scatter('sportnik', 'kvota na sportnika')    \n",
    "    return sportniki_analiza\n",
    "analiza('2016-01-21', 'football').head()"
   ]
  },
  {
   "cell_type": "code",
   "execution_count": 11,
   "metadata": {
    "collapsed": false
   },
   "outputs": [
    {
     "data": {
      "text/html": [
       "<div>\n",
       "<table border=\"1\" class=\"dataframe\">\n",
       "  <thead>\n",
       "    <tr style=\"text-align: right;\">\n",
       "      <th></th>\n",
       "      <th>sportnik</th>\n",
       "      <th>kvota</th>\n",
       "    </tr>\n",
       "    <tr>\n",
       "      <th>drzava</th>\n",
       "      <th></th>\n",
       "      <th></th>\n",
       "    </tr>\n",
       "  </thead>\n",
       "  <tbody>\n",
       "    <tr>\n",
       "      <th>USA</th>\n",
       "      <td>138</td>\n",
       "      <td>138</td>\n",
       "    </tr>\n",
       "    <tr>\n",
       "      <th>FRA</th>\n",
       "      <td>64</td>\n",
       "      <td>64</td>\n",
       "    </tr>\n",
       "    <tr>\n",
       "      <th>ENG</th>\n",
       "      <td>54</td>\n",
       "      <td>54</td>\n",
       "    </tr>\n",
       "    <tr>\n",
       "      <th>ITA</th>\n",
       "      <td>50</td>\n",
       "      <td>50</td>\n",
       "    </tr>\n",
       "    <tr>\n",
       "      <th>GER</th>\n",
       "      <td>37</td>\n",
       "      <td>37</td>\n",
       "    </tr>\n",
       "  </tbody>\n",
       "</table>\n",
       "</div>"
      ],
      "text/plain": [
       "        sportnik  kvota\n",
       "drzava                 \n",
       "USA          138    138\n",
       "FRA           64     64\n",
       "ENG           54     54\n",
       "ITA           50     50\n",
       "GER           37     37"
      ]
     },
     "execution_count": 11,
     "metadata": {},
     "output_type": "execute_result"
    }
   ],
   "source": [
    "tabela_sportnikov['2016-01-21']['football'].groupby('drzava').count().sort_values(['kvota'], ascending=[False]).head()"
   ]
  },
  {
   "cell_type": "code",
   "execution_count": null,
   "metadata": {
    "collapsed": true
   },
   "outputs": [],
   "source": []
  }
 ],
 "metadata": {
  "kernelspec": {
   "display_name": "Python 3",
   "language": "python",
   "name": "python3"
  },
  "language_info": {
   "codemirror_mode": {
    "name": "ipython",
    "version": 3
   },
   "file_extension": ".py",
   "mimetype": "text/x-python",
   "name": "python",
   "nbconvert_exporter": "python",
   "pygments_lexer": "ipython3",
   "version": "3.4.3"
  }
 },
 "nbformat": 4,
 "nbformat_minor": 1
}
